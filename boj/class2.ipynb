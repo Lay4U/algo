{
 "cells": [
  {
   "cell_type": "code",
   "execution_count": 30,
   "outputs": [
    {
     "name": "stdout",
     "output_type": "stream",
     "text": [
      "36\n"
     ]
    }
   ],
   "source": [
    "sentence, b = map(int, input().split())\n",
    "arr = list(map(int, input().split()))\n",
    "start = 1\n",
    "end = max(arr)\n",
    "\n",
    "while start <= end:\n",
    "    mid = (start + end) // 2\n",
    "    temp = sum([x - mid for x in arr if x > mid])\n",
    "    if temp >= b:\n",
    "        start = mid + 1\n",
    "    else:\n",
    "        end = mid - 1\n",
    "print(end)\n"
   ],
   "metadata": {
    "collapsed": false,
    "pycharm": {
     "name": "#%%\n"
    }
   }
  },
  {
   "cell_type": "code",
   "execution_count": 27,
   "outputs": [
    {
     "name": "stdout",
     "output_type": "stream",
     "text": [
      "10 22\n",
      "15 7\n",
      "18 2\n",
      "16 5\n"
     ]
    }
   ],
   "source": [
    "sentence, b = 4, 7\n",
    "arr = [20, 15, 10, 17]\n",
    "start = 1\n",
    "end = max(arr)\n",
    "while start <= end:  #적절한 벌목 높이를 찾는 알고리즘\n",
    "    mid = (start + end) // 2\n",
    "\n",
    "    log = 0  #벌목된 나무 총합\n",
    "    for character in arr:\n",
    "        if character >= mid:\n",
    "            log += character - mid\n",
    "    print(mid, log)\n",
    "    #벌목 높이를 이분탐색\n",
    "    if log >= b:\n",
    "        start = mid + 1\n",
    "    else:\n",
    "        end = mid - 1"
   ],
   "metadata": {
    "collapsed": false,
    "pycharm": {
     "name": "#%%\n"
    }
   }
  },
  {
   "cell_type": "code",
   "execution_count": 37,
   "outputs": [
    {
     "name": "stdout",
     "output_type": "stream",
     "text": [
      "4\n"
     ]
    }
   ],
   "source": [
    "n = int(input())\n",
    "\n",
    "arr = [5001] * (n + 5)\n",
    "arr[3] = arr[5] = 1\n",
    "\n",
    "for character in range(6, n + 1):\n",
    "    arr[character] = min(arr[character - 3], arr[character - 5]) + 1\n",
    "    # print(arr[i - 3], arr[i - 5])\n",
    "    # print()\n",
    "# print(arr)\n",
    "# print(*enumerate(arr))\n",
    "print(arr[n] if arr[n] < 5001 else -1)"
   ],
   "metadata": {
    "collapsed": false,
    "pycharm": {
     "name": "#%%\n"
    }
   }
  },
  {
   "cell_type": "code",
   "execution_count": 51,
   "outputs": [
    {
     "name": "stdout",
     "output_type": "stream",
     "text": [
      "1 -1\n",
      "1 1\n",
      "2 2\n",
      "3 3\n",
      "3 4\n"
     ]
    }
   ],
   "source": [
    "import sys\n",
    "\n",
    "input = sys.stdin.readline\n",
    "sentence = int(input())\n",
    "arr = []\n",
    "for _ in range(sentence):\n",
    "    arr.append(list(map(int, input().split())))\n",
    "\n",
    "# a = 5\n",
    "# arr = [[3, 4], [1, 1], [1, -1], [2, 2], [3, 3]]\n",
    "arr.sort(key=lambda x: (x[0], x[1]))\n",
    "for character in arr:\n",
    "    print(character[0], character[1])"
   ],
   "metadata": {
    "collapsed": false,
    "pycharm": {
     "name": "#%%\n"
    }
   }
  },
  {
   "cell_type": "code",
   "execution_count": 86,
   "outputs": [
    {
     "name": "stdout",
     "output_type": "stream",
     "text": [
      "2\n",
      "3\n",
      "deque([1, 2, 4, 5, 6, 7])\n",
      "\n",
      "4\n",
      "6\n",
      "deque([1, 2, 4, 5, 7])\n",
      "\n"
     ]
    },
    {
     "ename": "IndexError",
     "evalue": "deque index out of range",
     "output_type": "error",
     "traceback": [
      "\u001B[1;31m---------------------------------------------------------------------------\u001B[0m",
      "\u001B[1;31mIndexError\u001B[0m                                Traceback (most recent call last)",
      "Cell \u001B[1;32mIn [86], line 11\u001B[0m\n\u001B[0;32m      9\u001B[0m \u001B[38;5;28;01mwhile\u001B[39;00m deque:\n\u001B[0;32m     10\u001B[0m     index \u001B[38;5;241m=\u001B[39m  (k \u001B[38;5;241m-\u001B[39m \u001B[38;5;241m1\u001B[39m) \u001B[38;5;241m*\u001B[39m count\n\u001B[1;32m---> 11\u001B[0m     result \u001B[38;5;241m=\u001B[39m \u001B[43mdeque\u001B[49m\u001B[43m[\u001B[49m\u001B[43mindex\u001B[49m\u001B[43m]\u001B[49m\n\u001B[0;32m     12\u001B[0m     \u001B[38;5;28mprint\u001B[39m(index)\n\u001B[0;32m     13\u001B[0m     count \u001B[38;5;241m+\u001B[39m\u001B[38;5;241m=\u001B[39m \u001B[38;5;241m1\u001B[39m\n",
      "\u001B[1;31mIndexError\u001B[0m: deque index out of range"
     ]
    }
   ],
   "source": [
    "from collections import deque\n",
    "\n",
    "deque = deque()\n",
    "for character in range(1, 8):\n",
    "    deque.append(character)\n",
    "k = 3\n",
    "count = 1\n",
    "# 2 4 6 8 10\n",
    "result = []\n",
    "while deque:\n",
    "    index = (k - 1) * count\n",
    "    value = deque[index]\n",
    "\n",
    "    result.append(value)\n",
    "    print(index)\n",
    "    count += 1\n"
   ],
   "metadata": {
    "collapsed": false,
    "pycharm": {
     "name": "#%%\n"
    }
   }
  },
  {
   "cell_type": "code",
   "execution_count": 6,
   "outputs": [
    {
     "name": "stdout",
     "output_type": "stream",
     "text": [
      "<deque([1, 2, 3, 4, 5, 6, 7])\n",
      "deque([2, 3, 4, 5, 6, 7, 1])\n",
      "deque([2, 3, 4, 5, 6, 7, 1])\n",
      "deque([3, 4, 5, 6, 7, 1, 2])\n",
      "3,\n",
      "deque([4, 5, 6, 7, 1, 2])\n",
      "deque([5, 6, 7, 1, 2, 4])\n",
      "deque([5, 6, 7, 1, 2, 4])\n",
      "deque([6, 7, 1, 2, 4, 5])\n",
      "6,\n",
      "deque([7, 1, 2, 4, 5])\n",
      "deque([1, 2, 4, 5, 7])\n",
      "deque([1, 2, 4, 5, 7])\n",
      "deque([2, 4, 5, 7, 1])\n",
      "2,\n",
      "deque([4, 5, 7, 1])\n",
      "deque([5, 7, 1, 4])\n",
      "deque([5, 7, 1, 4])\n",
      "deque([7, 1, 4, 5])\n",
      "7,\n",
      "deque([1, 4, 5])\n",
      "deque([4, 5, 1])\n",
      "deque([4, 5, 1])\n",
      "deque([5, 1, 4])\n",
      "5,\n",
      "deque([1, 4])\n",
      "deque([4, 1])\n",
      "deque([4, 1])\n",
      "deque([1, 4])\n",
      "1,\n",
      "deque([4])\n",
      "deque([4])\n",
      "deque([4])\n",
      "deque([4])\n",
      "4>\n"
     ]
    }
   ],
   "source": [
    "from collections import deque\n",
    "\n",
    "n, k = 7, 3\n",
    "s = deque([])\n",
    "for character in range(1, n + 1):\n",
    "    s.append(character)\n",
    "print('<', end='')\n",
    "while s:\n",
    "    for character in range(k - 1):\n",
    "        print(s)\n",
    "        s.append(s[0])\n",
    "        s.popleft()\n",
    "        print(s)\n",
    "    print(s.popleft(), end='')\n",
    "    if s:\n",
    "        print(',')\n",
    "print('>')"
   ],
   "metadata": {
    "collapsed": false,
    "pycharm": {
     "name": "#%%\n"
    }
   }
  },
  {
   "cell_type": "code",
   "execution_count": 15,
   "outputs": [
    {
     "name": "stdout",
     "output_type": "stream",
     "text": [
      "<3, 6, 2, 7, 5, 1, 4>\n"
     ]
    }
   ],
   "source": [
    "from collections import deque\n",
    "\n",
    "sentence, b = map(int, input().split())\n",
    "arr = deque([x for x in range(1, sentence + 1)])\n",
    "result = []\n",
    "while arr:\n",
    "    for character in range(b - 1):\n",
    "        arr.append(arr.popleft())\n",
    "    result.append(arr.popleft())\n",
    "\n",
    "output = \", \".join(map(str, result))\n",
    "print(f'<{output}>')"
   ],
   "metadata": {
    "collapsed": false,
    "pycharm": {
     "name": "#%%\n"
    }
   }
  },
  {
   "cell_type": "code",
   "execution_count": 21,
   "outputs": [
    {
     "name": "stdout",
     "output_type": "stream",
     "text": [
      "999999900\n"
     ]
    }
   ],
   "source": [
    "sentence, b, v = 100, 99, 1000000000\n",
    "total = 0\n",
    "count = 0\n",
    "while True:\n",
    "    total += sentence\n",
    "    if total >= v:\n",
    "        print(count)\n",
    "        break\n",
    "    total -= b\n",
    "    count += 1\n",
    "# 시간 초과"
   ],
   "metadata": {
    "collapsed": false,
    "pycharm": {
     "name": "#%%\n"
    }
   }
  },
  {
   "cell_type": "code",
   "execution_count": 23,
   "outputs": [
    {
     "ename": "ValueError",
     "evalue": "not enough values to unpack (expected 3, got 0)",
     "output_type": "error",
     "traceback": [
      "\u001B[1;31m---------------------------------------------------------------------------\u001B[0m",
      "\u001B[1;31mValueError\u001B[0m                                Traceback (most recent call last)",
      "Cell \u001B[1;32mIn [23], line 4\u001B[0m\n\u001B[0;32m      1\u001B[0m \u001B[38;5;28;01mimport\u001B[39;00m \u001B[38;5;21;01mmath\u001B[39;00m\n\u001B[0;32m      3\u001B[0m \u001B[38;5;28minput\u001B[39m \u001B[38;5;241m=\u001B[39m sys\u001B[38;5;241m.\u001B[39mstdin\u001B[38;5;241m.\u001B[39mreadline\n\u001B[1;32m----> 4\u001B[0m a, b, v \u001B[38;5;241m=\u001B[39m \u001B[38;5;28mmap\u001B[39m(\u001B[38;5;28mint\u001B[39m, \u001B[38;5;28minput\u001B[39m()\u001B[38;5;241m.\u001B[39msplit())\n\u001B[0;32m      5\u001B[0m \u001B[38;5;28mprint\u001B[39m(math\u001B[38;5;241m.\u001B[39mceil((v \u001B[38;5;241m-\u001B[39m a) \u001B[38;5;241m/\u001B[39m (a \u001B[38;5;241m-\u001B[39m b)) \u001B[38;5;241m+\u001B[39m \u001B[38;5;241m1\u001B[39m)\n",
      "\u001B[1;31mValueError\u001B[0m: not enough values to unpack (expected 3, got 0)"
     ]
    }
   ],
   "source": [
    "import math\n",
    "import sys\n",
    "\n",
    "input = sys.stdin.readline\n",
    "sentence, b, v = map(int, input().split())\n",
    "print(math.ceil((v - sentence) / (sentence - b)) + 1)"
   ],
   "metadata": {
    "collapsed": false,
    "pycharm": {
     "name": "#%%\n"
    }
   }
  },
  {
   "cell_type": "code",
   "execution_count": 10,
   "outputs": [
    {
     "name": "stdout",
     "output_type": "stream",
     "text": [
      "4.0\n"
     ]
    }
   ],
   "source": [
    "sentence, b, v = 2, 1, 5\n",
    "print(v / (sentence - b) - b)"
   ],
   "metadata": {
    "collapsed": false,
    "pycharm": {
     "name": "#%%\n"
    }
   }
  },
  {
   "cell_type": "code",
   "execution_count": 11,
   "outputs": [
    {
     "name": "stdout",
     "output_type": "stream",
     "text": [
      "999999901.0\n"
     ]
    }
   ],
   "source": [
    "sentence, b, v = 100, 99, 1000000000\n",
    "print(v / (sentence - b) - b)"
   ],
   "metadata": {
    "collapsed": false,
    "pycharm": {
     "name": "#%%\n"
    }
   }
  },
  {
   "cell_type": "code",
   "execution_count": 8,
   "outputs": [
    {
     "data": {
      "text/plain": "99"
     },
     "execution_count": 8,
     "metadata": {},
     "output_type": "execute_result"
    }
   ],
   "source": [
    "1000000000 - 999999901"
   ],
   "metadata": {
    "collapsed": false,
    "pycharm": {
     "name": "#%%\n"
    }
   }
  },
  {
   "cell_type": "markdown",
   "source": [
    "#4949\n",
    "So when I die (the [first] I will see in (heaven) is a score list).\n",
    "[ first in ] ( first out ).\n",
    "Half Moon tonight (At least it is better than no Moon at all].\n",
    "A rope may form )( a trail in a maze.\n",
    "Help( I[m being held prisoner in a fortune cookie factory)].\n",
    "([ (([( [ ] ) ( ) (( ))] )) ]).\n",
    " .\n",
    ".\n",
    "\n",
    "yes\n",
    "yes\n",
    "no\n",
    "no\n",
    "no\n",
    "yes\n",
    "yes"
   ],
   "metadata": {
    "collapsed": false,
    "pycharm": {
     "name": "#%% md\n"
    }
   }
  },
  {
   "cell_type": "code",
   "execution_count": 27,
   "outputs": [
    {
     "ename": "KeyboardInterrupt",
     "evalue": "",
     "output_type": "error",
     "traceback": [
      "\u001B[1;31m---------------------------------------------------------------------------\u001B[0m",
      "\u001B[1;31mKeyboardInterrupt\u001B[0m                         Traceback (most recent call last)",
      "Cell \u001B[1;32mIn [27], line 7\u001B[0m\n\u001B[0;32m      5\u001B[0m stack \u001B[38;5;241m=\u001B[39m deque()\n\u001B[0;32m      6\u001B[0m \u001B[38;5;28;01mwhile\u001B[39;00m \u001B[38;5;28;01mTrue\u001B[39;00m:\n\u001B[1;32m----> 7\u001B[0m     sentence \u001B[38;5;241m=\u001B[39m \u001B[38;5;28;43minput\u001B[39;49m\u001B[43m(\u001B[49m\u001B[43m)\u001B[49m\n\u001B[0;32m      8\u001B[0m     \u001B[38;5;28;01mif\u001B[39;00m sentence \u001B[38;5;241m==\u001B[39m \u001B[38;5;124m'\u001B[39m\u001B[38;5;124m.\u001B[39m\u001B[38;5;124m'\u001B[39m:\n\u001B[0;32m      9\u001B[0m         \u001B[38;5;28;01mbreak\u001B[39;00m\n",
      "\u001B[1;31mKeyboardInterrupt\u001B[0m: "
     ]
    }
   ],
   "source": [
    "from collections import deque\n",
    "\n",
    "open = ['(', '[']\n",
    "close = [')', ']']\n",
    "stack = deque()\n",
    "while True:\n",
    "    stack = deque()\n",
    "    sentence = input()\n",
    "    isBreak = False\n",
    "    if sentence == '.':\n",
    "        break\n",
    "    for character in sentence:\n",
    "        if character in open:\n",
    "            stack.append(character)\n",
    "        elif character in close:\n",
    "            if len(stack) == 0:\n",
    "                print('no')\n",
    "                isBreak = True\n",
    "                break\n",
    "            pop = stack.pop()\n",
    "            if pop == '(' and character != ')' or pop == '[' and character != ']':\n",
    "                print('no')\n",
    "                isBreak = True\n",
    "                break\n",
    "\n",
    "    if len(stack) == 0 and isBreak is False:\n",
    "        print('yes')\n",
    "    if isBreak is False and len(stack) != 0:\n",
    "        print('no')\n"
   ],
   "metadata": {
    "collapsed": false,
    "pycharm": {
     "name": "#%%\n"
    }
   }
  },
  {
   "cell_type": "code",
   "execution_count": 6,
   "outputs": [
    {
     "name": "stdout",
     "output_type": "stream",
     "text": [
      "([]())\n"
     ]
    }
   ],
   "source": [
    "x = ''\n",
    "y = ''\n",
    "z = 'abcdefghijklmnopqrstuvwxyzABCDEFGHIJKLMNOPQRSTUVWXYZ .'\n",
    "\n",
    "txt = 'So when I die (the [first] I will see in (heaven) is a score list).'\n",
    "mytable = txt.maketrans(x, y, z)\n",
    "txt = txt.translate(mytable)\n",
    "print(txt)"
   ],
   "metadata": {
    "collapsed": false,
    "pycharm": {
     "name": "#%%\n"
    }
   }
  },
  {
   "cell_type": "code",
   "execution_count": null,
   "outputs": [],
   "source": [],
   "metadata": {
    "collapsed": false,
    "pycharm": {
     "name": "#%%\n"
    }
   }
  }
 ],
 "metadata": {
  "kernelspec": {
   "display_name": "Python 3",
   "language": "python",
   "name": "python3"
  },
  "language_info": {
   "codemirror_mode": {
    "name": "ipython",
    "version": 2
   },
   "file_extension": ".py",
   "mimetype": "text/x-python",
   "name": "python",
   "nbconvert_exporter": "python",
   "pygments_lexer": "ipython2",
   "version": "2.7.6"
  }
 },
 "nbformat": 4,
 "nbformat_minor": 0
}