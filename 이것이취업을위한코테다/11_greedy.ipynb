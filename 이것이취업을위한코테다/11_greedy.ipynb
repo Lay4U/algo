{
 "cells": [
  {
   "cell_type": "code",
   "execution_count": 8,
   "outputs": [
    {
     "name": "stdout",
     "output_type": "stream",
     "text": [
      "2\n"
     ]
    }
   ],
   "source": [
    "a = 5\n",
    "b = [2, 3, 1, 2, 2]\n",
    "# 2\n",
    "b.sort(reverse=True)\n",
    "count = 0\n",
    "while True:\n",
    "    c = b[0]\n",
    "    b = b[c:]\n",
    "    count += 1\n",
    "    if not b or b[0] < len(b):\n",
    "        break\n",
    "print(count)\n"
   ],
   "metadata": {
    "collapsed": false,
    "pycharm": {
     "name": "#%%\n"
    }
   }
  },
  {
   "cell_type": "code",
   "execution_count": 12,
   "outputs": [
    {
     "name": "stdout",
     "output_type": "stream",
     "text": [
      "210\n"
     ]
    }
   ],
   "source": [
    "# 313, 509\n",
    "# 02984\n",
    "# 567\n",
    "a = '02984'\n",
    "result = 1\n",
    "for i in a:\n",
    "    if i == '0':\n",
    "        continue\n",
    "    else:\n",
    "        result *= int(i)\n",
    "print(result)"
   ],
   "metadata": {
    "collapsed": false,
    "pycharm": {
     "name": "#%%\n"
    }
   }
  },
  {
   "cell_type": "code",
   "execution_count": 13,
   "outputs": [
    {
     "name": "stdout",
     "output_type": "stream",
     "text": [
      "{'1', '0'}\n"
     ]
    }
   ],
   "source": [
    "# 314, 509\n",
    "a = '0001100'\n",
    "\n"
   ],
   "metadata": {
    "collapsed": false,
    "pycharm": {
     "name": "#%%\n"
    }
   }
  },
  {
   "cell_type": "code",
   "execution_count": 16,
   "outputs": [
    {
     "name": "stdout",
     "output_type": "stream",
     "text": [
      "6\n"
     ]
    }
   ],
   "source": [
    "data = '10010101110010001100'\n",
    "count0 = 0\n",
    "count1 = 0\n",
    "\n",
    "if data[0] == '1':\n",
    "    count0 += 1\n",
    "else:\n",
    "    count1 += 1\n",
    "\n",
    "for i in range(len(data) - 1):\n",
    "    if data[i] != data[i + 1]:\n",
    "        if data[i + 1] == '1':\n",
    "            count0 += 1\n",
    "        else:\n",
    "            count1 += 1\n",
    "\n",
    "print(min(count0, count1))"
   ],
   "metadata": {
    "collapsed": false,
    "pycharm": {
     "name": "#%%\n"
    }
   }
  },
  {
   "cell_type": "code",
   "execution_count": null,
   "outputs": [],
   "source": [
    "#315 513\n",
    "a = 5\n",
    "b = [3, 2, 1, 1, 9]\n"
   ],
   "metadata": {
    "collapsed": false,
    "pycharm": {
     "name": "#%%\n"
    }
   }
  },
  {
   "cell_type": "code",
   "execution_count": 20,
   "outputs": [
    {
     "name": "stdout",
     "output_type": "stream",
     "text": [
      "1 1\n",
      "2 2\n",
      "3 4\n",
      "8 7\n",
      "7\n"
     ]
    }
   ],
   "source": [
    "a = 4\n",
    "data = [1, 2, 3, 8]\n",
    "data.sort()\n",
    "\n",
    "target = 1\n",
    "for x in data:\n",
    "    print(x, target)\n",
    "    if target < x:\n",
    "        break\n",
    "    target += x\n",
    "\n",
    "print(target)"
   ],
   "metadata": {
    "collapsed": false,
    "pycharm": {
     "name": "#%%\n"
    }
   }
  },
  {
   "cell_type": "code",
   "execution_count": 31,
   "outputs": [
    {
     "name": "stdout",
     "output_type": "stream",
     "text": [
      "25\n"
     ]
    }
   ],
   "source": [
    "#317 513\n",
    "# a, b = 5, 3\n",
    "# data = [1, 3, 2, 3, 2]\n",
    "a, b = 8, 5\n",
    "data = [1, 5, 4, 3, 2, 4, 5, 2]\n",
    "data.sort()\n",
    "count = 0\n",
    "for i in range(len(data)):\n",
    "    for j in range(i + 1, len(data)):\n",
    "        if data[i] != data[j]:\n",
    "            count += 1\n",
    "print(count)"
   ],
   "metadata": {
    "collapsed": false,
    "pycharm": {
     "name": "#%%\n"
    }
   }
  },
  {
   "cell_type": "code",
   "execution_count": 34,
   "outputs": [
    {
     "name": "stdout",
     "output_type": "stream",
     "text": [
      "[0, 1, 2, 2, 0, 0, 0, 0, 0, 0, 0]\n",
      "5 0\n",
      "4 4\n",
      "2 8\n",
      "8\n"
     ]
    }
   ],
   "source": [
    "#sol\n",
    "n, m = 5, 3\n",
    "data = [1, 3, 2, 3, 2]\n",
    "\n",
    "array = [0] * 11\n",
    "\n",
    "for x in data:\n",
    "    array[x] += 1\n",
    "\n",
    "result = 0\n",
    "print(array)\n",
    "for i in range(1, m + 1):\n",
    "    print(n, result)\n",
    "    n -= array[i]\n",
    "    result += array[i] * n\n",
    "\n",
    "print(result)\n"
   ],
   "metadata": {
    "collapsed": false,
    "pycharm": {
     "name": "#%%\n"
    }
   }
  },
  {
   "cell_type": "code",
   "execution_count": 39,
   "outputs": [
    {
     "name": "stdout",
     "output_type": "stream",
     "text": [
      "1\n"
     ]
    }
   ],
   "source": [
    "from collections import deque\n",
    "\n",
    "deque = deque()\n",
    "deque.append([3, 1])\n",
    "deque.append([1, 2])\n",
    "deque.append([2, 3])\n",
    "\n",
    "count = 0\n",
    "for i in range(5):\n",
    "    # print(deque)\n",
    "    popleft = deque.popleft()\n",
    "    popleft[0] -= 1\n",
    "    if popleft[0] != 0:\n",
    "        deque.append(popleft)\n",
    "\n",
    "print(deque[0][1])"
   ],
   "metadata": {
    "collapsed": false,
    "pycharm": {
     "name": "#%%\n"
    }
   }
  },
  {
   "cell_type": "code",
   "execution_count": 1,
   "outputs": [],
   "source": [
    "from collections import deque\n",
    "\n",
    "deque = deque()\n",
    "\n",
    "\n",
    "def solution(food_times, k):\n",
    "    count = 1\n",
    "\n",
    "    for i in food_times:\n",
    "        deque.append([i, count])\n",
    "        count += 1\n",
    "\n",
    "    for i in range(k):\n",
    "        popleft = deque.popleft()\n",
    "        popleft[0] -= 1\n",
    "        if popleft[0] != 0:\n",
    "            deque.append(popleft)\n",
    "\n",
    "    return deque[0][1]"
   ],
   "metadata": {
    "collapsed": false,
    "pycharm": {
     "name": "#%%\n"
    }
   }
  },
  {
   "cell_type": "code",
   "execution_count": 7,
   "outputs": [
    {
     "name": "stdout",
     "output_type": "stream",
     "text": [
      "5\n",
      "[(3, 1)]\n",
      "[(3, 1)]\n"
     ]
    },
    {
     "data": {
      "text/plain": "1"
     },
     "execution_count": 7,
     "metadata": {},
     "output_type": "execute_result"
    }
   ],
   "source": [
    "# 317 // 515\n",
    "import heapq\n",
    "\n",
    "\n",
    "def solution(food_times, k):\n",
    "    if sum(food_times) <= - k:\n",
    "        return -1\n",
    "\n",
    "    q = []\n",
    "    for i in range(len(food_times)):\n",
    "        heapq.heappush(q, (food_times[i], i + 1))\n",
    "    sum_value = 0\n",
    "    previous = 0\n",
    "    length = len(food_times)\n",
    "\n",
    "    while sum_value + ((q[0][0] - previous) * length) <= k:\n",
    "        now = heapq.heappop(q)[0]\n",
    "        sum_value += (now - previous) * length\n",
    "        length -= 1\n",
    "        previous = now\n",
    "\n",
    "    result = sorted(q, key=lambda x: x[1])\n",
    "    print(sum_value)\n",
    "    print(result)\n",
    "    return result[(k - sum_value) % length][1]\n",
    "\n",
    "\n",
    "solution([3, 1, 2], 5)"
   ],
   "metadata": {
    "collapsed": false,
    "pycharm": {
     "name": "#%%\n"
    }
   }
  },
  {
   "cell_type": "code",
   "execution_count": null,
   "outputs": [],
   "source": [],
   "metadata": {
    "collapsed": false,
    "pycharm": {
     "name": "#%%\n"
    }
   }
  }
 ],
 "metadata": {
  "kernelspec": {
   "display_name": "Python 3",
   "language": "python",
   "name": "python3"
  },
  "language_info": {
   "codemirror_mode": {
    "name": "ipython",
    "version": 2
   },
   "file_extension": ".py",
   "mimetype": "text/x-python",
   "name": "python",
   "nbconvert_exporter": "python",
   "pygments_lexer": "ipython2",
   "version": "2.7.6"
  }
 },
 "nbformat": 4,
 "nbformat_minor": 0
}