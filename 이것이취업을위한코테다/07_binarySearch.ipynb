{
 "cells": [
  {
   "cell_type": "code",
   "execution_count": 2,
   "outputs": [
    {
     "name": "stdout",
     "output_type": "stream",
     "text": [
      "생성할 원소 개수를 입력 한 다음 한 칸 띄고 찾을 문자열을 입력하세요\n",
      "앞서 적은 원소 개수만큼 문자열을 입력하세요 구분은 띄어쓰기 한 칸으로 합니다.\n",
      "3\n"
     ]
    }
   ],
   "source": [
    "def sequential_search(n, target, array):\n",
    "    for i in range(n):\n",
    "        if array[i] == target:\n",
    "            return i + 1\n",
    "\n",
    "\n",
    "print(\"생성할 원소 개수를 입력 한 다음 한 칸 띄고 찾을 문자열을 입력하세요\")\n",
    "n = 5\n",
    "target = 'Dongbin'\n",
    "\n",
    "print(\"앞서 적은 원소 개수만큼 문자열을 입력하세요 구분은 띄어쓰기 한 칸으로 합니다.\")\n",
    "array = ['Hanul', 'Jonggu', 'Dongbin', 'Taeil', 'Sangwook']\n",
    "\n",
    "print(sequential_search(n, target, array))"
   ],
   "metadata": {
    "collapsed": false,
    "pycharm": {
     "name": "#%%\n"
    }
   }
  },
  {
   "cell_type": "code",
   "execution_count": 4,
   "outputs": [
    {
     "name": "stdout",
     "output_type": "stream",
     "text": [
      "4\n"
     ]
    }
   ],
   "source": [
    "def binary_search(array, target, start, end):\n",
    "    if start > end:\n",
    "        return None\n",
    "    mid = (start + end) // 2\n",
    "\n",
    "    if array[mid] == target:\n",
    "        return mid\n",
    "    elif array[mid] > target:\n",
    "        return binary_search(array, target, start, mid - 1)\n",
    "    else:\n",
    "        return binary_search(array, target, mid + 1, end)\n",
    "\n",
    "\n",
    "n, target = 10, 7\n",
    "array = [1, 3, 5, 7, 9, 11, 13, 15, 17, 19]\n",
    "\n",
    "result = binary_search(array, target, 0, n - 1)\n",
    "if result is None:\n",
    "    print(\"원소가 존재하지 않습니다.\")\n",
    "else:\n",
    "    print(result + 1)"
   ],
   "metadata": {
    "collapsed": false,
    "pycharm": {
     "name": "#%%\n"
    }
   }
  },
  {
   "cell_type": "code",
   "execution_count": 5,
   "outputs": [],
   "source": [
    "def binary_search(array, target, start, end):\n",
    "    while start <= end:\n",
    "        mid = (start + end) // 2\n",
    "        if array[mid] == target:\n",
    "            return mid\n",
    "        elif array[mid] > target:\n",
    "            end = mid - 1\n",
    "        else:\n",
    "            start = mid + 1\n",
    "    return None"
   ],
   "metadata": {
    "collapsed": false,
    "pycharm": {
     "name": "#%%\n"
    }
   }
  },
  {
   "cell_type": "code",
   "execution_count": 7,
   "outputs": [
    {
     "name": "stdout",
     "output_type": "stream",
     "text": [
      "\n"
     ]
    }
   ],
   "source": [
    "import sys\n",
    "\n",
    "input_data = sys.stdin.readline().rstrip()\n",
    "\n",
    "print(input_data)"
   ],
   "metadata": {
    "collapsed": false,
    "pycharm": {
     "name": "#%%\n"
    }
   }
  },
  {
   "cell_type": "code",
   "execution_count": 9,
   "outputs": [
    {
     "name": "stdout",
     "output_type": "stream",
     "text": [
      "no yes yes "
     ]
    }
   ],
   "source": [
    "def binary_search(array, target, start, end):\n",
    "    while start <= end:\n",
    "        mid = (start + end) // 2\n",
    "        if array[mid] == target:\n",
    "            return mid\n",
    "        elif array[mid] > target:\n",
    "            end = mid - 1\n",
    "        else:\n",
    "            start = mid + 1\n",
    "    return None\n",
    "\n",
    "\n",
    "n = 5\n",
    "array = [8, 3, 7, 9, 2]\n",
    "array.sort()\n",
    "m = 3\n",
    "x = [5, 7, 9]\n",
    "\n",
    "for i in x:\n",
    "    result = binary_search(array, i, 0, n - 1)\n",
    "    if result is not None:\n",
    "        print('yes', end=' ')\n",
    "    else:\n",
    "        print('no', end=' ')"
   ],
   "metadata": {
    "collapsed": false,
    "pycharm": {
     "name": "#%%\n"
    }
   }
  },
  {
   "cell_type": "code",
   "execution_count": 10,
   "outputs": [
    {
     "name": "stdout",
     "output_type": "stream",
     "text": [
      "no\n",
      "yes\n",
      "yes\n"
     ]
    }
   ],
   "source": [
    "n = 5\n",
    "array = [0] * 1000001\n",
    "\n",
    "for i in input().split():\n",
    "    array[int(i)] = 1\n",
    "\n",
    "m = 3\n",
    "x = [5, 7, 9]\n",
    "\n",
    "for i in x:\n",
    "    if array[i] == 1:\n",
    "        print('yes')\n",
    "    else:\n",
    "        print('no')"
   ],
   "metadata": {
    "collapsed": false,
    "pycharm": {
     "name": "#%%\n"
    }
   }
  },
  {
   "cell_type": "code",
   "execution_count": 11,
   "outputs": [
    {
     "name": "stdout",
     "output_type": "stream",
     "text": [
      "15\n"
     ]
    }
   ],
   "source": [
    "# 4 6\n",
    "# 19 15 10 17\n",
    "n, m = 4, 6\n",
    "array = [19, 15, 10, 17]\n",
    "\n",
    "start = 0\n",
    "end = max(array)\n",
    "\n",
    "result = 0\n",
    "while start <= end:\n",
    "    total = 0\n",
    "    mid = (start + end) // 2\n",
    "    for x in array:\n",
    "        if x > mid:\n",
    "            total += x - mid\n",
    "    if total < m:\n",
    "        end = mid - 1\n",
    "    else:\n",
    "        result = mid\n",
    "        start = mid + 1\n",
    "print(result)"
   ],
   "metadata": {
    "collapsed": false,
    "pycharm": {
     "name": "#%%\n"
    }
   }
  },
  {
   "cell_type": "code",
   "execution_count": null,
   "outputs": [],
   "source": [],
   "metadata": {
    "collapsed": false,
    "pycharm": {
     "name": "#%%\n"
    }
   }
  }
 ],
 "metadata": {
  "kernelspec": {
   "display_name": "Python 3",
   "language": "python",
   "name": "python3"
  },
  "language_info": {
   "codemirror_mode": {
    "name": "ipython",
    "version": 2
   },
   "file_extension": ".py",
   "mimetype": "text/x-python",
   "name": "python",
   "nbconvert_exporter": "python",
   "pygments_lexer": "ipython2",
   "version": "2.7.6"
  }
 },
 "nbformat": 4,
 "nbformat_minor": 0
}