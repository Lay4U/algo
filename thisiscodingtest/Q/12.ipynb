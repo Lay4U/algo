{
 "cells": [
  {
   "cell_type": "code",
   "execution_count": 1,
   "outputs": [],
   "source": [
    "def possible(result):\n",
    "    for x, y, stuff in result:\n",
    "        if stuff == 0:\n",
    "            if y == 0 or (x - 1, y, 1) in result or (x, y, 1) in result or (x, y - 1, 0) in result:\n",
    "                continue\n",
    "            return False\n",
    "        elif stuff == 1:\n",
    "            if (x + 1, y - 1, 0) in result or (x, y - 1, 0) in result or\n",
    "                    ((x - 1, y, 1) in result and (x + 1, y, 1) in result):\n",
    "                continue\n",
    "            return False\n",
    "    return True\n",
    "\n",
    "\n",
    "def solution(build_frame, n):\n",
    "    result = []\n",
    "    for frame in build_frame:\n",
    "        x, y, stuff, install = frame\n",
    "\n",
    "        if install == 0:\n",
    "            result.remove((x, y, stuff))\n",
    "            if not possible(result):\n",
    "                result.append((x, y, stuff))\n",
    "        elif install == 1:\n",
    "            result.append((x, y, stuff))\n",
    "            if not possible(result):\n",
    "                result.remove((x, y, stuff))\n",
    "    result.sort()\n",
    "    return result\n",
    "\n",
    "\n",
    "print(solution(\n",
    "    [[1, 0, 0, 1], [1, 1, 1, 1], [2, 1, 0, 1], [2, 2, 1, 1], [5, 0, 0, 1], [5, 1, 0, 1], [4, 2, 1, 1], [3, 2, 1, 1]],\n",
    "    5))\n"
   ],
   "metadata": {
    "collapsed": false,
    "pycharm": {
     "name": "#%%\n"
    }
   }
  },
  {
   "cell_type": "code",
   "execution_count": 2,
   "outputs": [],
   "source": [
    "a = [[1, 0, 0, 1], [1, 1, 1, 1], [2, 1, 0, 1], [2, 2, 1, 1], [5, 0, 0, 1], [5, 1, 0, 1], [4, 2, 1, 1], [3, 2, 1, 1]]"
   ],
   "metadata": {
    "collapsed": false,
    "pycharm": {
     "name": "#%%\n"
    }
   }
  },
  {
   "cell_type": "code",
   "execution_count": 3,
   "outputs": [
    {
     "name": "stdout",
     "output_type": "stream",
     "text": [
      "[1, 0, 0, 1]\n",
      "[1, 1, 1, 1]\n",
      "[2, 1, 0, 1]\n",
      "[2, 2, 1, 1]\n",
      "[5, 0, 0, 1]\n",
      "[5, 1, 0, 1]\n",
      "[4, 2, 1, 1]\n",
      "[3, 2, 1, 1]\n"
     ]
    }
   ],
   "source": [
    "for x in a:\n",
    "    print(x)"
   ],
   "metadata": {
    "collapsed": false,
    "pycharm": {
     "name": "#%%\n"
    }
   }
  },
  {
   "cell_type": "code",
   "execution_count": null,
   "outputs": [],
   "source": [],
   "metadata": {
    "collapsed": false,
    "pycharm": {
     "name": "#%%\n"
    }
   }
  }
 ],
 "metadata": {
  "kernelspec": {
   "display_name": "Python 3",
   "language": "python",
   "name": "python3"
  },
  "language_info": {
   "codemirror_mode": {
    "name": "ipython",
    "version": 2
   },
   "file_extension": ".py",
   "mimetype": "text/x-python",
   "name": "python",
   "nbconvert_exporter": "python",
   "pygments_lexer": "ipython2",
   "version": "2.7.6"
  }
 },
 "nbformat": 4,
 "nbformat_minor": 0
}