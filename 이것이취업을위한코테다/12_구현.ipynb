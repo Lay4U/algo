{
 "cells": [
  {
   "cell_type": "code",
   "execution_count": 15,
   "outputs": [
    {
     "name": "stderr",
     "output_type": "stream",
     "text": [
      "UsageError: %%time is a cell magic, but the cell body is empty. Did you mean the line magic %time (single %)?\n"
     ]
    }
   ],
   "source": [
    "% % time"
   ],
   "metadata": {
    "collapsed": false,
    "pycharm": {
     "name": "#%%\n"
    }
   }
  },
  {
   "cell_type": "code",
   "execution_count": 16,
   "outputs": [
    {
     "name": "stdout",
     "output_type": "stream",
     "text": [
      "LUCKY\n",
      "CPU times: total: 0 ns\n",
      "Wall time: 0 ns\n"
     ]
    }
   ],
   "source": [
    "% % time\n",
    "# 323 //\n",
    "# 123402 LUCKY\n",
    "# 7755 READY\n",
    "\n",
    "a = '123402'\n",
    "left = a[:len(a) // 2]\n",
    "right = a[len(a) // 2:]\n",
    "sumLeft = sum(int(x) for x in left)\n",
    "sumRight = sum(int(x) for x in right)\n",
    "if sumLeft == sumRight:\n",
    "    print('LUCKY')\n",
    "else:\n",
    "    print('READY')\n"
   ],
   "metadata": {
    "collapsed": false,
    "pycharm": {
     "name": "#%%\n"
    }
   }
  },
  {
   "cell_type": "code",
   "execution_count": 23,
   "outputs": [
    {
     "name": "stdout",
     "output_type": "stream",
     "text": [
      "LUCKY\n",
      "CPU times: total: 0 ns\n",
      "Wall time: 0 ns\n"
     ]
    }
   ],
   "source": [
    "% % time\n",
    "n = '123402'\n",
    "length = len(n)\n",
    "summary = 0\n",
    "\n",
    "for i in range(length // 2):\n",
    "    summary += int(n[i])\n",
    "\n",
    "for i in range(length // 2, length):\n",
    "    summary -= int(n[i])\n",
    "\n",
    "if summary == 0:\n",
    "    print(\"LUCKY\")\n",
    "else:\n",
    "    print(\"READY\")"
   ],
   "metadata": {
    "collapsed": false,
    "pycharm": {
     "name": "#%%\n"
    }
   }
  },
  {
   "cell_type": "code",
   "execution_count": 57,
   "outputs": [
    {
     "name": "stdout",
     "output_type": "stream",
     "text": [
      "['1', '5', '7', 'A', 'B', 'C', 'K', 'K']\n",
      "['0', '1', '2', '3', '4', '5', '6', '7', '8', '9']\n",
      "ABCKK157\n"
     ]
    }
   ],
   "source": [
    "a = 'K1KA5CB7'\n",
    "b = sorted(a)\n",
    "print(b)\n",
    "c = [str(x) for x in range(10)]\n",
    "print(c)\n",
    "number = []\n",
    "for i in b:\n",
    "    # print(i)\n",
    "    if i in c:\n",
    "        number.append(i)\n",
    "        # b.remove(i)\n",
    "# print(number)\n",
    "# print(b)\n",
    "for i in b:\n",
    "    if not i in c:\n",
    "        print(i, end='')\n",
    "print(*number, sep='')"
   ],
   "metadata": {
    "collapsed": false,
    "pycharm": {
     "name": "#%%\n"
    }
   }
  },
  {
   "cell_type": "code",
   "execution_count": 1,
   "outputs": [
    {
     "name": "stdout",
     "output_type": "stream",
     "text": [
      "ABCKK13\n"
     ]
    }
   ],
   "source": [
    "# 324\n",
    "data = 'K1KA5CB7'\n",
    "result = []\n",
    "value = 0\n",
    "\n",
    "for x in data:\n",
    "    if x.isalpha():\n",
    "        result.append(x)\n",
    "    else:\n",
    "        value += int(x)\n",
    "\n",
    "result.sort()\n",
    "\n",
    "if value != 0:\n",
    "    result.append(str(value))\n",
    "\n",
    "print(''.join(result))"
   ],
   "metadata": {
    "collapsed": false,
    "pycharm": {
     "name": "#%%\n"
    }
   }
  },
  {
   "cell_type": "code",
   "execution_count": 3,
   "outputs": [
    {
     "data": {
      "text/plain": "7"
     },
     "execution_count": 3,
     "metadata": {},
     "output_type": "execute_result"
    }
   ],
   "source": [
    "# 325\n",
    "# aabbaccc\n",
    "# 2a2ba3c\n",
    "\n",
    "def solutions(s):\n",
    "    answer = len(s)\n",
    "\n",
    "    for step in range(1, len(s) // 2 + 1):\n",
    "        compressed = \"\"\n",
    "        prev = s[0:step]\n",
    "        count = 1\n",
    "        for j in range(step, len(s), step):\n",
    "            if prev == s[j:j + step]:\n",
    "                count += 1\n",
    "            else:\n",
    "                compressed += str(count) + prev if count >= 2 else prev\n",
    "                prev = s[j:j + step]\n",
    "                count = 1\n",
    "        compressed += str(count) + prev if count >= 2 else prev\n",
    "        answer = min(answer, len(compressed))\n",
    "    return answer\n",
    "\n",
    "\n",
    "solutions('aabbaccc')\n",
    "\n"
   ],
   "metadata": {
    "collapsed": false,
    "pycharm": {
     "name": "#%%\n"
    }
   }
  },
  {
   "cell_type": "code",
   "execution_count": 24,
   "outputs": [
    {
     "name": "stdout",
     "output_type": "stream",
     "text": [
      "ababcdcdababcdcd\n",
      "2ab2cd2ab2cd\n",
      "ababcdcdababcdcd\n",
      "ababcdcdababcdcd\n",
      "ababcdcdababcdcd\n",
      "ababcdcdababcdcd\n",
      "ababcdcdababcdcd\n",
      "2ababcdcd\n",
      "9\n"
     ]
    }
   ],
   "source": [
    "#aabbaccc 2a2ba3c\n",
    "data = 'ababcdcdababcdcd'\n",
    "result = len(data)\n",
    "\n",
    "for step in range(1, len(data) // 2 + 1):\n",
    "    prev = data[0:step]\n",
    "    compressed = ''\n",
    "    count = 1\n",
    "    # print(step, prev)\n",
    "    for x in range(step, len(data), step):\n",
    "        # print(prev, compressed, count)\n",
    "        if prev == data[x:x + step]:\n",
    "            count += 1\n",
    "        else:\n",
    "            compressed += str(count) + prev if count >= 2 else prev\n",
    "            prev = data[x:x + step]\n",
    "            count = 1\n",
    "    # print(step, prev, compressed, count)\n",
    "\n",
    "    compressed += str(count) + prev if count >= 2 else prev\n",
    "    result = min(result, len(compressed))\n",
    "    print(compressed)\n",
    "\n",
    "print(result)"
   ],
   "metadata": {
    "collapsed": false,
    "pycharm": {
     "name": "#%%\n"
    }
   }
  },
  {
   "cell_type": "code",
   "execution_count": 26,
   "outputs": [
    {
     "data": {
      "text/plain": "9"
     },
     "execution_count": 26,
     "metadata": {},
     "output_type": "execute_result"
    }
   ],
   "source": [
    "def solution(s):\n",
    "    answer = len(s)\n",
    "\n",
    "    for step in range(1, len(s) // 2 + 1):\n",
    "        prev = s[0:step]\n",
    "        compressed = ''\n",
    "        count = 1\n",
    "        for x in range(step, len(s), step):\n",
    "            if prev == s[x:x + step]:\n",
    "                count += 1\n",
    "            else:\n",
    "                compressed += str(count) + prev if count >= 2 else prev\n",
    "                prev = s[x:x + step]\n",
    "                count = 1\n",
    "\n",
    "        compressed += str(count) + prev if count >= 2 else prev\n",
    "        answer = min(answer, min(compressed))\n",
    "    return answer\n",
    "\n",
    "\n",
    "solutions('aabbccaccc')"
   ],
   "metadata": {
    "collapsed": false,
    "pycharm": {
     "name": "#%%\n"
    }
   }
  },
  {
   "cell_type": "code",
   "execution_count": 1,
   "outputs": [
    {
     "name": "stdout",
     "output_type": "stream",
     "text": [
      "[[0, 0, 0, 0, 0, 0, 0, 0, 0], [0, 0, 0, 0, 0, 0, 0, 0, 0], [0, 0, 0, 0, 0, 0, 0, 0, 0], [0, 0, 0, 1, 0, 0, 0, 0, 0], [0, 0, 0, 0, 0, 0, 0, 0, 0], [0, 0, 0, 0, 0, 0, 0, 0, 0], [0, 0, 0, 0, 0, 0, 0, 0, 0], [0, 0, 0, 0, 0, 0, 0, 0, 0], [0, 0, 0, 0, 0, 0, 0, 0, 0]]\n",
      "[[0, 0, 0, 0, 0, 0, 0, 0, 0], [0, 0, 0, 0, 0, 0, 0, 0, 0], [0, 0, 0, 0, 0, 0, 0, 0, 0], [0, 0, 0, 1, 1, 0, 0, 0, 0], [0, 0, 0, 0, 0, 0, 0, 0, 0], [0, 0, 0, 0, 0, 0, 0, 0, 0], [0, 0, 0, 0, 0, 0, 0, 0, 0], [0, 0, 0, 0, 0, 0, 0, 0, 0], [0, 0, 0, 0, 0, 0, 0, 0, 0]]\n",
      "[[0, 0, 0, 0, 0, 0, 0, 0, 0], [0, 0, 0, 0, 0, 0, 0, 0, 0], [0, 0, 0, 0, 0, 0, 0, 0, 0], [0, 0, 0, 1, 1, 1, 0, 0, 0], [0, 0, 0, 0, 0, 0, 0, 0, 0], [0, 0, 0, 0, 0, 0, 0, 0, 0], [0, 0, 0, 0, 0, 0, 0, 0, 0], [0, 0, 0, 0, 0, 0, 0, 0, 0], [0, 0, 0, 0, 0, 0, 0, 0, 0]]\n",
      "[[0, 0, 0, 0, 0, 0, 0, 0, 0], [0, 0, 0, 0, 0, 0, 0, 0, 0], [0, 0, 0, 0, 0, 0, 0, 0, 0], [0, 0, 0, 1, 1, 1, 0, 0, 0], [0, 0, 0, 1, 0, 0, 0, 0, 0], [0, 0, 0, 0, 0, 0, 0, 0, 0], [0, 0, 0, 0, 0, 0, 0, 0, 0], [0, 0, 0, 0, 0, 0, 0, 0, 0], [0, 0, 0, 0, 0, 0, 0, 0, 0]]\n",
      "[[0, 0, 0, 0, 0, 0, 0, 0, 0], [0, 0, 0, 0, 0, 0, 0, 0, 0], [0, 0, 0, 0, 0, 0, 0, 0, 0], [0, 0, 0, 1, 1, 1, 0, 0, 0], [0, 0, 0, 1, 1, 0, 0, 0, 0], [0, 0, 0, 0, 0, 0, 0, 0, 0], [0, 0, 0, 0, 0, 0, 0, 0, 0], [0, 0, 0, 0, 0, 0, 0, 0, 0], [0, 0, 0, 0, 0, 0, 0, 0, 0]]\n",
      "[[0, 0, 0, 0, 0, 0, 0, 0, 0], [0, 0, 0, 0, 0, 0, 0, 0, 0], [0, 0, 0, 0, 0, 0, 0, 0, 0], [0, 0, 0, 1, 1, 1, 0, 0, 0], [0, 0, 0, 1, 1, 0, 0, 0, 0], [0, 0, 0, 0, 0, 0, 0, 0, 0], [0, 0, 0, 0, 0, 0, 0, 0, 0], [0, 0, 0, 0, 0, 0, 0, 0, 0], [0, 0, 0, 0, 0, 0, 0, 0, 0]]\n",
      "[[0, 0, 0, 0, 0, 0, 0, 0, 0], [0, 0, 0, 0, 0, 0, 0, 0, 0], [0, 0, 0, 0, 0, 0, 0, 0, 0], [0, 0, 0, 1, 1, 1, 0, 0, 0], [0, 0, 0, 1, 1, 0, 0, 0, 0], [0, 0, 0, 1, 0, 0, 0, 0, 0], [0, 0, 0, 0, 0, 0, 0, 0, 0], [0, 0, 0, 0, 0, 0, 0, 0, 0], [0, 0, 0, 0, 0, 0, 0, 0, 0]]\n",
      "[[0, 0, 0, 0, 0, 0, 0, 0, 0], [0, 0, 0, 0, 0, 0, 0, 0, 0], [0, 0, 0, 0, 0, 0, 0, 0, 0], [0, 0, 0, 1, 1, 1, 0, 0, 0], [0, 0, 0, 1, 1, 0, 0, 0, 0], [0, 0, 0, 1, 0, 0, 0, 0, 0], [0, 0, 0, 0, 0, 0, 0, 0, 0], [0, 0, 0, 0, 0, 0, 0, 0, 0], [0, 0, 0, 0, 0, 0, 0, 0, 0]]\n",
      "[[0, 0, 0, 0, 0, 0, 0, 0, 0], [0, 0, 0, 0, 0, 0, 0, 0, 0], [0, 0, 0, 0, 0, 0, 0, 0, 0], [0, 0, 0, 1, 1, 1, 0, 0, 0], [0, 0, 0, 1, 1, 0, 0, 0, 0], [0, 0, 0, 1, 0, 1, 0, 0, 0], [0, 0, 0, 0, 0, 0, 0, 0, 0], [0, 0, 0, 0, 0, 0, 0, 0, 0], [0, 0, 0, 0, 0, 0, 0, 0, 0]]\n"
     ]
    },
    {
     "data": {
      "text/plain": "True"
     },
     "execution_count": 1,
     "metadata": {},
     "output_type": "execute_result"
    }
   ],
   "source": [
    "# 327\n",
    "def rotate_a_matrix_by_90_degree(a):\n",
    "    n = len(a)\n",
    "    m = len(a[0])\n",
    "    result = [[0] * n for _ in range(m)]\n",
    "    for i in range(n):\n",
    "        for j in range(m):\n",
    "            result[j][n - i - 1] = a[i][j]\n",
    "            # print(result)\n",
    "    return result\n",
    "\n",
    "\n",
    "def check(new_lock):\n",
    "    lock_length = len(new_lock) // 3\n",
    "    for i in range(lock_length, lock_length * 2):\n",
    "        for j in range(lock_length, lock_length * 2):\n",
    "            if new_lock[i][j] != 1:\n",
    "                return False\n",
    "    return True\n",
    "\n",
    "\n",
    "def solution(key, lock):\n",
    "    n = len(lock)\n",
    "    m = len(key)\n",
    "\n",
    "    new_lock = [[0] * (n * 3) for _ in range(n * 3)]\n",
    "\n",
    "    for i in range(n):\n",
    "        for j in range(n):\n",
    "            new_lock[i + n][j + n] = lock[i][j]\n",
    "            print(new_lock)\n",
    "\n",
    "    for rotation in range(4):\n",
    "        key = rotate_a_matrix_by_90_degree(key)\n",
    "        for x in range(n * 2):\n",
    "            for y in range(n * 2):\n",
    "                for i in range(m):\n",
    "                    for j in range(m):\n",
    "                        new_lock[x + i][y + j] += key[i][j]\n",
    "\n",
    "                if check(new_lock):\n",
    "                    return True\n",
    "\n",
    "                for i in range(m):\n",
    "                    for j in range(m):\n",
    "                        new_lock[x + i][y + j] -= key[i][j]\n",
    "    return False\n",
    "\n",
    "\n",
    "solution([[0, 0, 0], [1, 0, 0], [0, 1, 1]], [[1, 1, 1], [1, 1, 0], [1, 0, 1]])"
   ],
   "metadata": {
    "collapsed": false,
    "pycharm": {
     "name": "#%%\n"
    }
   }
  },
  {
   "cell_type": "code",
   "execution_count": 4,
   "outputs": [
    {
     "name": "stdout",
     "output_type": "stream",
     "text": [
      "[[0, 0, 1], [0, 0, 0], [0, 0, 0]]\n",
      "\n",
      "[[0, 0, 1], [0, 0, 1], [0, 0, 0]]\n",
      "\n",
      "[[0, 0, 1], [0, 0, 1], [0, 0, 1]]\n",
      "\n",
      "[[0, 0, 1], [0, 0, 1], [0, 0, 1]]\n",
      "\n",
      "[[0, 0, 1], [0, 1, 1], [0, 0, 1]]\n",
      "\n",
      "[[0, 0, 1], [0, 1, 1], [0, 0, 1]]\n",
      "\n",
      "[[1, 0, 1], [0, 1, 1], [0, 0, 1]]\n",
      "\n",
      "[[1, 0, 1], [0, 1, 1], [0, 0, 1]]\n",
      "\n",
      "[[1, 0, 1], [0, 1, 1], [1, 0, 1]]\n",
      "\n"
     ]
    },
    {
     "data": {
      "text/plain": "[[1, 0, 1], [0, 1, 1], [1, 0, 1]]"
     },
     "execution_count": 4,
     "metadata": {},
     "output_type": "execute_result"
    }
   ],
   "source": [
    "def rotate_a_matrix_by_90_degree(a):\n",
    "    n = len(a)\n",
    "    m = len(a[0])\n",
    "    result = [[0] * n for _ in range(m)]\n",
    "    for i in range(n):\n",
    "        for j in range(m):\n",
    "            result[j][n - i - 1] = a[i][j]\n",
    "    return result\n",
    "\n",
    "\n",
    "rotate_a_matrix_by_90_degree([[1, 1, 1], [0, 1, 0], [1, 0, 1]])"
   ],
   "metadata": {
    "collapsed": false,
    "pycharm": {
     "name": "#%%\n"
    }
   }
  },
  {
   "cell_type": "code",
   "execution_count": 15,
   "outputs": [
    {
     "name": "stdout",
     "output_type": "stream",
     "text": [
      "[(1, 1), (1, 2)]\n",
      "[(1, 2), (1, 3)]\n",
      "[(1, 3), (1, 4)]\n",
      "[(1, 4), (2, 4)]\n",
      "[(2, 4), (3, 4), (4, 4)]\n",
      "[(3, 4), (4, 4), (5, 4)]\n",
      "[(4, 4), (5, 4), (6, 4)]\n",
      "9\n"
     ]
    }
   ],
   "source": [
    "# 329 526\n",
    "n = 6\n",
    "k = 3\n",
    "data = [[0] * (n + 1) for _ in range(n + 1)]\n",
    "info = []\n",
    "\n",
    "for x in [[3, 4], [2, 5], [5, 3]]:\n",
    "    a, b = x\n",
    "    data[a][b] = 1\n",
    "\n",
    "l = 3\n",
    "for y in [[3, 'D'], [15, 'L'], [17, 'D']]:\n",
    "    x, c = y\n",
    "    info.append((int(x), c))\n",
    "\n",
    "dx = [0, 1, 0, -1]\n",
    "dy = [1, 0, -1, 0]\n",
    "\n",
    "\n",
    "def turn(direction, c):\n",
    "    if c == \"L\":\n",
    "        direction = (direction - 1) % 4\n",
    "    else:\n",
    "        direction = (direction + 1) % 4\n",
    "    return direction\n",
    "\n",
    "\n",
    "def simulate():\n",
    "    x, y = 1, 1\n",
    "    data[x][y] = 2\n",
    "    direction = 0\n",
    "    time = 0\n",
    "    index = 0\n",
    "    q = [(x, y)]\n",
    "    while True:\n",
    "        nx = x + dx[direction]\n",
    "        ny = y + dy[direction]\n",
    "        if 1 <= nx <= n and 1 <= ny <= n and data[nx][ny] != 2:\n",
    "            if data[nx][ny] == 0:\n",
    "                data[nx][ny] = 2\n",
    "                q.append((nx, ny))\n",
    "                print(q)\n",
    "                px, py = q.pop(0)\n",
    "                data[px][py] = 0\n",
    "            if data[nx][ny] == 1:\n",
    "                data[nx][ny] = 2\n",
    "                q.append((nx, ny))\n",
    "        else:\n",
    "            time += 1\n",
    "            break\n",
    "        x, y = nx, ny\n",
    "        time += 1\n",
    "        if index < l and time == info[index][0]:\n",
    "            direction = turn(direction, info[index][1])\n",
    "            index += 1\n",
    "    return time\n",
    "\n",
    "\n",
    "print(simulate())\n",
    "\n",
    "\n"
   ],
   "metadata": {
    "collapsed": false,
    "pycharm": {
     "name": "#%%\n"
    }
   }
  },
  {
   "cell_type": "code",
   "execution_count": 30,
   "outputs": [
    {
     "name": "stdout",
     "output_type": "stream",
     "text": [
      "[[3, 4], [2, 5], [5, 3]]\n",
      "[[3, 'D'], [15, 'L'], [17, 'D']]\n",
      "[[0, 0, 0, 0, 0, 0], [0, 0, 0, 0, 0, 0], [0, 0, 0, 0, 0, 1], [0, 0, 0, 0, 1, 0], [0, 0, 0, 0, 0, 0], [0, 0, 0, 1, 0, 0], [0, 0, 0, 0, 0, 0]]\n",
      "[[0 0 0 0 0 0]\n",
      " [0 0 0 0 0 0]\n",
      " [0 0 0 0 0 1]\n",
      " [0 0 0 0 1 0]\n",
      " [0 0 0 0 0 0]\n",
      " [0 0 0 1 0 0]\n",
      " [0 0 0 0 0 0]]\n",
      "[[0 0 0 0 0 0]\n",
      " [0 0 2 0 0 0]\n",
      " [0 0 0 0 0 1]\n",
      " [0 0 0 0 1 0]\n",
      " [0 0 0 0 0 0]\n",
      " [0 0 0 1 0 0]\n",
      " [0 0 0 0 0 0]]\n",
      "[[0 0 0 0 0 0]\n",
      " [0 0 0 2 0 0]\n",
      " [0 0 0 0 0 1]\n",
      " [0 0 0 0 1 0]\n",
      " [0 0 0 0 0 0]\n",
      " [0 0 0 1 0 0]\n",
      " [0 0 0 0 0 0]]\n",
      "[[0 0 0 0 0 0]\n",
      " [0 0 0 0 2 0]\n",
      " [0 0 0 0 0 1]\n",
      " [0 0 0 0 1 0]\n",
      " [0 0 0 0 0 0]\n",
      " [0 0 0 1 0 0]\n",
      " [0 0 0 0 0 0]]\n",
      "[[0 0 0 0 0 0]\n",
      " [0 0 0 0 0 0]\n",
      " [0 0 0 0 2 1]\n",
      " [0 0 0 0 1 0]\n",
      " [0 0 0 0 0 0]\n",
      " [0 0 0 1 0 0]\n",
      " [0 0 0 0 0 0]]\n",
      "[[0 0 0 0 0 0]\n",
      " [0 0 0 0 0 0]\n",
      " [0 0 0 0 2 1]\n",
      " [0 0 0 0 2 0]\n",
      " [0 0 0 0 0 0]\n",
      " [0 0 0 1 0 0]\n",
      " [0 0 0 0 0 0]]\n",
      "[[0 0 0 0 0 0]\n",
      " [0 0 0 0 0 0]\n",
      " [0 0 0 0 0 1]\n",
      " [0 0 0 0 2 0]\n",
      " [0 0 0 0 2 0]\n",
      " [0 0 0 1 0 0]\n",
      " [0 0 0 0 0 0]]\n",
      "[[0 0 0 0 0 0]\n",
      " [0 0 0 0 0 0]\n",
      " [0 0 0 0 0 1]\n",
      " [0 0 0 0 0 0]\n",
      " [0 0 0 0 2 0]\n",
      " [0 0 0 1 2 0]\n",
      " [0 0 0 0 0 0]]\n",
      "[[0 0 0 0 0 0]\n",
      " [0 0 0 0 0 0]\n",
      " [0 0 0 0 0 1]\n",
      " [0 0 0 0 0 0]\n",
      " [0 0 0 0 0 0]\n",
      " [0 0 0 1 2 0]\n",
      " [0 0 0 0 2 0]]\n",
      "[[0, 0, 0, 0, 0, 0], [0, 0, 0, 0, 0, 0], [0, 0, 0, 0, 0, 1], [0, 0, 0, 0, 0, 0], [0, 0, 0, 0, 0, 0], [0, 0, 0, 1, 2, 0], [0, 0, 0, 0, 2, 0]]\n",
      "9\n"
     ]
    }
   ],
   "source": [
    "import numpy as np\n",
    "\n",
    "n = 6\n",
    "k = 3\n",
    "apple = []\n",
    "trans = []\n",
    "map = [[0] * n for _ in range(n + 1)]\n",
    "for x in [[3, 4], [2, 5], [5, 3]]:\n",
    "    apple.append(x)\n",
    "    map[x[0]][x[1]] = 1\n",
    "\n",
    "for x in [[3, 'D'], [15, 'L'], [17, 'D']]:\n",
    "    trans.append(x)\n",
    "\n",
    "# 동 남 북 서\n",
    "dx = [0, 1, 0, -1]\n",
    "dy = [1, 0, -1, 0]\n",
    "direction = 0\n",
    "x, y = 1, 1\n",
    "times = 0\n",
    "index = 0\n",
    "q = [(x, y)]\n",
    "print(apple)\n",
    "print(trans)\n",
    "print(map)\n",
    "while True:\n",
    "    print(np.array(map))\n",
    "    nx = x + dx[direction]\n",
    "    ny = y + dy[direction]\n",
    "    if 1 <= nx <= n and 1 <= ny <= n and map[nx][ny] != 2:\n",
    "        if map[nx][ny] == 0:\n",
    "            map[nx][ny] = 2\n",
    "            q.append((nx, ny))\n",
    "            px, py = q.pop(0)\n",
    "            map[px][py] = 0\n",
    "        elif map[nx][ny] == 1:\n",
    "            map[nx][ny] = 2\n",
    "            q.append((nx, ny))\n",
    "    else:\n",
    "        times += 1\n",
    "        break\n",
    "    x, y = nx, ny\n",
    "    times += 1\n",
    "    if index < l and times == info[index][0]:\n",
    "        direction = turn(direction, info[index][1])\n",
    "        index += 1\n",
    "print(map)\n",
    "print(times)\n"
   ],
   "metadata": {
    "collapsed": false,
    "pycharm": {
     "name": "#%%\n"
    }
   }
  },
  {
   "cell_type": "code",
   "execution_count": 1,
   "outputs": [],
   "source": [
    "#A12 333 / 527"
   ],
   "metadata": {
    "collapsed": false,
    "pycharm": {
     "name": "#%%\n"
    }
   }
  },
  {
   "cell_type": "code",
   "execution_count": null,
   "outputs": [],
   "source": [
    "def possible(answer):\n",
    "    for x, y, stuff in answer:\n",
    "        if stuff == 0:\n",
    "            #기둥은 바닥 or 보의 한쪽 끝부분  위 or 다른 기둥\n",
    "            if y == 0 or [x - 1, y, 1] in answer or [x, y, 1] in answer\n",
    "                or [x, y - 1, 0] in answer:\n",
    "            continue\n",
    "            return False\n",
    "        elif stuff == 1:\n",
    "            # 보는 한쪽 끝부분이 기둥 위에 or 양쪽 끝부분이 다른 보와 동시에 연결\n",
    "            if [x, y - 1, 0] in answer or [x + 1, y - 1, 0] in answer\n",
    "                or ([x - 1, y, 1] in answer and [x + 1, y, 1] in answer):\n",
    "            continue\n",
    "            return False\n",
    "    return True\n",
    "\n",
    "\n",
    "def solution(n, build_frame):\n",
    "    answer = []\n",
    "    for frame in build_frame:\n",
    "        x, y, stuff, operate = frame\n",
    "        if operate == 0:\n",
    "            answer.remove([x, y, stuff])\n",
    "            if not possible(answer):\n",
    "                answer.append([x, y, stuff])\n",
    "        if operate == 1:\n",
    "            answer.append([x, y, stuff])\n",
    "            if not possible(answer):\n",
    "                answer.remove([x, y, stuff])\n",
    "    return sorted(answer)\n",
    "\n"
   ],
   "metadata": {
    "collapsed": false,
    "pycharm": {
     "name": "#%%\n"
    }
   }
  }
 ],
 "metadata": {
  "kernelspec": {
   "display_name": "Python 3",
   "language": "python",
   "name": "python3"
  },
  "language_info": {
   "codemirror_mode": {
    "name": "ipython",
    "version": 2
   },
   "file_extension": ".py",
   "mimetype": "text/x-python",
   "name": "python",
   "nbconvert_exporter": "python",
   "pygments_lexer": "ipython2",
   "version": "2.7.6"
  }
 },
 "nbformat": 4,
 "nbformat_minor": 0
}