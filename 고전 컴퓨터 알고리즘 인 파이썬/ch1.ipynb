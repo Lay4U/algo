{
 "cells": [
  {
   "cell_type": "code",
   "execution_count": 1,
   "outputs": [
    {
     "name": "stdout",
     "output_type": "stream",
     "text": [
      "5\n"
     ]
    }
   ],
   "source": [
    "\n",
    "\n",
    "\n",
    "def fib1(n: int) -> int:\n",
    "    if n < 2:\n",
    "        return n\n",
    "    return fib1(n - 1) + fib1(n - 2)\n",
    "\n",
    "\n",
    "print(fib1(5))"
   ],
   "metadata": {
    "collapsed": false,
    "pycharm": {
     "name": "#%%\n"
    }
   }
  },
  {
   "cell_type": "code",
   "execution_count": 2,
   "outputs": [],
   "source": [
    "from typing import Dict\n",
    "\n",
    "memo: Dict[int, int] = {0: 0, 1: 1}\n",
    "\n",
    "\n",
    "def fib3(n: int) -> int:\n",
    "    if n not in memo:\n",
    "        memo[n] = fib3(n - 1) + fib3(n - 2)\n",
    "    return memo[n]"
   ],
   "metadata": {
    "collapsed": false,
    "pycharm": {
     "name": "#%%\n"
    }
   }
  },
  {
   "cell_type": "code",
   "execution_count": 5,
   "outputs": [
    {
     "name": "stdout",
     "output_type": "stream",
     "text": [
      "{0: 0, 1: 1, 2: 1, 3: 2, 4: 3, 5: 5, 6: 8, 7: 13, 8: 21, 9: 34, 10: 55}\n"
     ]
    }
   ],
   "source": [
    "fib3(10)\n",
    "print(memo)"
   ],
   "metadata": {
    "collapsed": false,
    "pycharm": {
     "name": "#%%\n"
    }
   }
  },
  {
   "cell_type": "code",
   "execution_count": 7,
   "outputs": [
    {
     "name": "stdout",
     "output_type": "stream",
     "text": [
      "5\n",
      "12586269025\n"
     ]
    }
   ],
   "source": [
    "from functools import lru_cache\n",
    "\n",
    "\n",
    "@lru_cache(maxsize=None)\n",
    "def fib4(n: int) -> int:\n",
    "    if n < 2:\n",
    "        return n\n",
    "    return fib4(n - 2) + fib4(n - 1)\n",
    "\n",
    "\n",
    "print(fib4(5))\n",
    "print(fib4(50))"
   ],
   "metadata": {
    "collapsed": false,
    "pycharm": {
     "name": "#%%\n"
    }
   }
  },
  {
   "cell_type": "code",
   "execution_count": 8,
   "outputs": [
    {
     "name": "stdout",
     "output_type": "stream",
     "text": [
      "5\n",
      "12586269025\n"
     ]
    }
   ],
   "source": [
    "def fib5(n: int) -> int:\n",
    "    if n == 0: return n\n",
    "    last: int = 0\n",
    "    next: int = 1\n",
    "    for _ in range(1, n):\n",
    "        last, next = next, last + next\n",
    "    return next\n",
    "\n",
    "\n",
    "print(fib5(5))\n",
    "print(fib5(50))"
   ],
   "metadata": {
    "collapsed": false,
    "pycharm": {
     "name": "#%%\n"
    }
   }
  },
  {
   "cell_type": "code",
   "execution_count": 9,
   "outputs": [
    {
     "name": "stdout",
     "output_type": "stream",
     "text": [
      "0\n",
      "1\n",
      "10\n",
      "11\n",
      "21\n",
      "32\n",
      "53\n",
      "85\n",
      "138\n",
      "223\n",
      "361\n",
      "584\n",
      "945\n",
      "1529\n",
      "2474\n",
      "4003\n",
      "6477\n",
      "10480\n",
      "16957\n",
      "27437\n",
      "44394\n",
      "71831\n",
      "116225\n",
      "188056\n",
      "304281\n",
      "492337\n",
      "796618\n",
      "1288955\n",
      "2085573\n",
      "3374528\n",
      "5460101\n",
      "8834629\n",
      "14294730\n",
      "23129359\n",
      "37424089\n",
      "60553448\n",
      "97977537\n",
      "158530985\n",
      "256508522\n",
      "415039507\n",
      "671548029\n",
      "1086587536\n",
      "1758135565\n",
      "2844723101\n",
      "4602858666\n",
      "7447581767\n",
      "12050440433\n",
      "19498022200\n",
      "31548462633\n",
      "51046484833\n",
      "82594947466\n"
     ]
    }
   ],
   "source": [
    "from typing import Generator\n",
    "\n",
    "\n",
    "def fib6(n: int) -> Generator[int, None, None]:\n",
    "    yield 0\n",
    "    if n > 0: yield 1\n",
    "    last: int = 9\n",
    "    next: int = 1\n",
    "    for _ in range(1, n):\n",
    "        last, next = next, last + next\n",
    "        yield next\n",
    "\n",
    "\n",
    "for i in fib6(50):\n",
    "    print(i)"
   ],
   "metadata": {
    "collapsed": false,
    "pycharm": {
     "name": "#%%\n"
    }
   }
  },
  {
   "cell_type": "code",
   "execution_count": 10,
   "outputs": [
    {
     "name": "stdout",
     "output_type": "stream",
     "text": [
      "원본: 8949 byte\n",
      "압축: 2400 byte\n",
      "TAGGGATTAACCGTTATATATATATATAGCCATGGATGATTATATATAGGGTTAACCGTTATATATATATATAAGCCATGGTCATTATATAGGGATTAACCGTTATATATATATATAGCCATGGATGATTATATATAGGGTTAACCGTTATATATATATATAAGCCATGGTCATTATATAGGGATTAACCGTTATATATATATATAGCCATGGATGATTATATATAGGGTTAACCGTTATATATATATATAAGCCATGGTCATTATATAGGGATTAACCGTTATATATATATATAGCCATGGATGATTATATATAGGGTTAACCGTTATATATATATATAAGCCATGGTCATTATATAGGGATTAACCGTTATATATATATATAGCCATGGATGATTATATATAGGGTTAACCGTTATATATATATATAAGCCATGGTCATTATATAGGGATTAACCGTTATATATATATATAGCCATGGATGATTATATATAGGGTTAACCGTTATATATATATATAAGCCATGGTCATTATATAGGGATTAACCGTTATATATATATATAGCCATGGATGATTATATATAGGGTTAACCGTTATATATATATATAAGCCATGGTCATTATATAGGGATTAACCGTTATATATATATATAGCCATGGATGATTATATATAGGGTTAACCGTTATATATATATATAAGCCATGGTCATTATATAGGGATTAACCGTTATATATATATATAGCCATGGATGATTATATATAGGGTTAACCGTTATATATATATATAAGCCATGGTCATTATATAGGGATTAACCGTTATATATATATATAGCCATGGATGATTATATATAGGGTTAACCGTTATATATATATATAAGCCATGGTCATTATATAGGGATTAACCGTTATATATATATATAGCCATGGATGATTATATATAGGGTTAACCGTTATATATATATATAAGCCATGGTCATTATATAGGGATTAACCGTTATATATATATATAGCCATGGATGATTATATATAGGGTTAACCGTTATATATATATATAAGCCATGGTCATTATATAGGGATTAACCGTTATATATATATATAGCCATGGATGATTATATATAGGGTTAACCGTTATATATATATATAAGCCATGGTCATTATATAGGGATTAACCGTTATATATATATATAGCCATGGATGATTATATATAGGGTTAACCGTTATATATATATATAAGCCATGGTCATTATATAGGGATTAACCGTTATATATATATATAGCCATGGATGATTATATATAGGGTTAACCGTTATATATATATATAAGCCATGGTCATTATATAGGGATTAACCGTTATATATATATATAGCCATGGATGATTATATATAGGGTTAACCGTTATATATATATATAAGCCATGGTCATTATATAGGGATTAACCGTTATATATATATATAGCCATGGATGATTATATATAGGGTTAACCGTTATATATATATATAAGCCATGGTCATTATATAGGGATTAACCGTTATATATATATATAGCCATGGATGATTATATATAGGGTTAACCGTTATATATATATATAAGCCATGGTCATTATATAGGGATTAACCGTTATATATATATATAGCCATGGATGATTATATATAGGGTTAACCGTTATATATATATATAAGCCATGGTCATTATATAGGGATTAACCGTTATATATATATATAGCCATGGATGATTATATATAGGGTTAACCGTTATATATATATATAAGCCATGGTCATTATATAGGGATTAACCGTTATATATATATATAGCCATGGATGATTATATATAGGGTTAACCGTTATATATATATATAAGCCATGGTCATTATATAGGGATTAACCGTTATATATATATATAGCCATGGATGATTATATATAGGGTTAACCGTTATATATATATATAAGCCATGGTCATTATATAGGGATTAACCGTTATATATATATATAGCCATGGATGATTATATATAGGGTTAACCGTTATATATATATATAAGCCATGGTCATTATATAGGGATTAACCGTTATATATATATATAGCCATGGATGATTATATATAGGGTTAACCGTTATATATATATATAAGCCATGGTCATTATATAGGGATTAACCGTTATATATATATATAGCCATGGATGATTATATATAGGGTTAACCGTTATATATATATATAAGCCATGGTCATTATATAGGGATTAACCGTTATATATATATATAGCCATGGATGATTATATATAGGGTTAACCGTTATATATATATATAAGCCATGGTCATTATATAGGGATTAACCGTTATATATATATATAGCCATGGATGATTATATATAGGGTTAACCGTTATATATATATATAAGCCATGGTCATTATATAGGGATTAACCGTTATATATATATATAGCCATGGATGATTATATATAGGGTTAACCGTTATATATATATATAAGCCATGGTCATTATATAGGGATTAACCGTTATATATATATATAGCCATGGATGATTATATATAGGGTTAACCGTTATATATATATATAAGCCATGGTCATTATATAGGGATTAACCGTTATATATATATATAGCCATGGATGATTATATATAGGGTTAACCGTTATATATATATATAAGCCATGGTCATTATATAGGGATTAACCGTTATATATATATATAGCCATGGATGATTATATATAGGGTTAACCGTTATATATATATATAAGCCATGGTCATTATATAGGGATTAACCGTTATATATATATATAGCCATGGATGATTATATATAGGGTTAACCGTTATATATATATATAAGCCATGGTCATTATATAGGGATTAACCGTTATATATATATATAGCCATGGATGATTATATATAGGGTTAACCGTTATATATATATATAAGCCATGGTCATTATATAGGGATTAACCGTTATATATATATATAGCCATGGATGATTATATATAGGGTTAACCGTTATATATATATATAAGCCATGGTCATTATATAGGGATTAACCGTTATATATATATATAGCCATGGATGATTATATATAGGGTTAACCGTTATATATATATATAAGCCATGGTCATTATATAGGGATTAACCGTTATATATATATATAGCCATGGATGATTATATATAGGGTTAACCGTTATATATATATATAAGCCATGGTCATTATATAGGGATTAACCGTTATATATATATATAGCCATGGATGATTATATATAGGGTTAACCGTTATATATATATATAAGCCATGGTCATTATATAGGGATTAACCGTTATATATATATATAGCCATGGATGATTATATATAGGGTTAACCGTTATATATATATATAAGCCATGGTCATTATATAGGGATTAACCGTTATATATATATATAGCCATGGATGATTATATATAGGGTTAACCGTTATATATATATATAAGCCATGGTCATTATATAGGGATTAACCGTTATATATATATATAGCCATGGATGATTATATATAGGGTTAACCGTTATATATATATATAAGCCATGGTCATTATATAGGGATTAACCGTTATATATATATATAGCCATGGATGATTATATATAGGGTTAACCGTTATATATATATATAAGCCATGGTCATTATATAGGGATTAACCGTTATATATATATATAGCCATGGATGATTATATATAGGGTTAACCGTTATATATATATATAAGCCATGGTCATTATATAGGGATTAACCGTTATATATATATATAGCCATGGATGATTATATATAGGGTTAACCGTTATATATATATATAAGCCATGGTCATTATATAGGGATTAACCGTTATATATATATATAGCCATGGATGATTATATATAGGGTTAACCGTTATATATATATATAAGCCATGGTCATTATATAGGGATTAACCGTTATATATATATATAGCCATGGATGATTATATATAGGGTTAACCGTTATATATATATATAAGCCATGGTCATTATATAGGGATTAACCGTTATATATATATATAGCCATGGATGATTATATATAGGGTTAACCGTTATATATATATATAAGCCATGGTCATTATATAGGGATTAACCGTTATATATATATATAGCCATGGATGATTATATATAGGGTTAACCGTTATATATATATATAAGCCATGGTCATTATATAGGGATTAACCGTTATATATATATATAGCCATGGATGATTATATATAGGGTTAACCGTTATATATATATATAAGCCATGGTCATTATATAGGGATTAACCGTTATATATATATATAGCCATGGATGATTATATATAGGGTTAACCGTTATATATATATATAAGCCATGGTCATTATATAGGGATTAACCGTTATATATATATATAGCCATGGATGATTATATATAGGGTTAACCGTTATATATATATATAAGCCATGGTCATTATATAGGGATTAACCGTTATATATATATATAGCCATGGATGATTATATATAGGGTTAACCGTTATATATATATATAAGCCATGGTCATTATATAGGGATTAACCGTTATATATATATATAGCCATGGATGATTATATATAGGGTTAACCGTTATATATATATATAAGCCATGGTCATTATATAGGGATTAACCGTTATATATATATATAGCCATGGATGATTATATATAGGGTTAACCGTTATATATATATATAAGCCATGGTCATTATATAGGGATTAACCGTTATATATATATATAGCCATGGATGATTATATATAGGGTTAACCGTTATATATATATATAAGCCATGGTCATTATATAGGGATTAACCGTTATATATATATATAGCCATGGATGATTATATATAGGGTTAACCGTTATATATATATATAAGCCATGGTCATTATATAGGGATTAACCGTTATATATATATATAGCCATGGATGATTATATATAGGGTTAACCGTTATATATATATATAAGCCATGGTCATTATATAGGGATTAACCGTTATATATATATATAGCCATGGATGATTATATATAGGGTTAACCGTTATATATATATATAAGCCATGGTCATTATATAGGGATTAACCGTTATATATATATATAGCCATGGATGATTATATATAGGGTTAACCGTTATATATATATATAAGCCATGGTCATTATATAGGGATTAACCGTTATATATATATATAGCCATGGATGATTATATATAGGGTTAACCGTTATATATATATATAAGCCATGGTCATTATATAGGGATTAACCGTTATATATATATATAGCCATGGATGATTATATATAGGGTTAACCGTTATATATATATATAAGCCATGGTCATTATATAGGGATTAACCGTTATATATATATATAGCCATGGATGATTATATATAGGGTTAACCGTTATATATATATATAAGCCATGGTCATTATATAGGGATTAACCGTTATATATATATATAGCCATGGATGATTATATATAGGGTTAACCGTTATATATATATATAAGCCATGGTCATTATATAGGGATTAACCGTTATATATATATATAGCCATGGATGATTATATATAGGGTTAACCGTTATATATATATATAAGCCATGGTCATTATATAGGGATTAACCGTTATATATATATATAGCCATGGATGATTATATATAGGGTTAACCGTTATATATATATATAAGCCATGGTCATTATATAGGGATTAACCGTTATATATATATATAGCCATGGATGATTATATATAGGGTTAACCGTTATATATATATATAAGCCATGGTCATTATATAGGGATTAACCGTTATATATATATATAGCCATGGATGATTATATATAGGGTTAACCGTTATATATATATATAAGCCATGGTCATTATATAGGGATTAACCGTTATATATATATATAGCCATGGATGATTATATATAGGGTTAACCGTTATATATATATATAAGCCATGGTCATTATATAGGGATTAACCGTTATATATATATATAGCCATGGATGATTATATATAGGGTTAACCGTTATATATATATATAAGCCATGGTCATTATATAGGGATTAACCGTTATATATATATATAGCCATGGATGATTATATATAGGGTTAACCGTTATATATATATATAAGCCATGGTCATTATATAGGGATTAACCGTTATATATATATATAGCCATGGATGATTATATATAGGGTTAACCGTTATATATATATATAAGCCATGGTCATTATATAGGGATTAACCGTTATATATATATATAGCCATGGATGATTATATATAGGGTTAACCGTTATATATATATATAAGCCATGGTCATTATATAGGGATTAACCGTTATATATATATATAGCCATGGATGATTATATATAGGGTTAACCGTTATATATATATATAAGCCATGGTCATTATATAGGGATTAACCGTTATATATATATATAGCCATGGATGATTATATATAGGGTTAACCGTTATATATATATATAAGCCATGGTCATTATATAGGGATTAACCGTTATATATATATATAGCCATGGATGATTATATATAGGGTTAACCGTTATATATATATATAAGCCATGGTCATTATATAGGGATTAACCGTTATATATATATATAGCCATGGATGATTATATATAGGGTTAACCGTTATATATATATATAAGCCATGGTCATTATATAGGGATTAACCGTTATATATATATATAGCCATGGATGATTATATATAGGGTTAACCGTTATATATATATATAAGCCATGGTCATTATATAGGGATTAACCGTTATATATATATATAGCCATGGATGATTATATATAGGGTTAACCGTTATATATATATATAAGCCATGGTCATTATATAGGGATTAACCGTTATATATATATATAGCCATGGATGATTATATATAGGGTTAACCGTTATATATATATATAAGCCATGGTCATTATATAGGGATTAACCGTTATATATATATATAGCCATGGATGATTATATATAGGGTTAACCGTTATATATATATATAAGCCATGGTCATTATATAGGGATTAACCGTTATATATATATATAGCCATGGATGATTATATATAGGGTTAACCGTTATATATATATATAAGCCATGGTCATTATATAGGGATTAACCGTTATATATATATATAGCCATGGATGATTATATATAGGGTTAACCGTTATATATATATATAAGCCATGGTCATTATATAGGGATTAACCGTTATATATATATATAGCCATGGATGATTATATATAGGGTTAACCGTTATATATATATATAAGCCATGGTCATTATATAGGGATTAACCGTTATATATATATATAGCCATGGATGATTATATATAGGGTTAACCGTTATATATATATATAAGCCATGGTCATTATATAGGGATTAACCGTTATATATATATATAGCCATGGATGATTATATATAGGGTTAACCGTTATATATATATATAAGCCATGGTCATTATATAGGGATTAACCGTTATATATATATATAGCCATGGATGATTATATATAGGGTTAACCGTTATATATATATATAAGCCATGGTCATTATATAGGGATTAACCGTTATATATATATATAGCCATGGATGATTATATATAGGGTTAACCGTTATATATATATATAAGCCATGGTCATTATATAGGGATTAACCGTTATATATATATATAGCCATGGATGATTATATATAGGGTTAACCGTTATATATATATATAAGCCATGGTCATTATATAGGGATTAACCGTTATATATATATATAGCCATGGATGATTATATATAGGGTTAACCGTTATATATATATATAAGCCATGGTCATTATATAGGGATTAACCGTTATATATATATATAGCCATGGATGATTATATATAGGGTTAACCGTTATATATATATATAAGCCATGGTCATTATATAGGGATTAACCGTTATATATATATATAGCCATGGATGATTATATATAGGGTTAACCGTTATATATATATATAAGCCATGGTCATTATATAGGGATTAACCGTTATATATATATATAGCCATGGATGATTATATATAGGGTTAACCGTTATATATATATATAAGCCATGGTCATTATATAGGGATTAACCGTTATATATATATATAGCCATGGATGATTATATATAGGGTTAACCGTTATATATATATATAAGCCATGGTCATTATATAGGGATTAACCGTTATATATATATATAGCCATGGATGATTATATATAGGGTTAACCGTTATATATATATATAAGCCATGGTCATTATATAGGGATTAACCGTTATATATATATATAGCCATGGATGATTATATATAGGGTTAACCGTTATATATATATATAAGCCATGGTCATTATATAGGGATTAACCGTTATATATATATATAGCCATGGATGATTATATATAGGGTTAACCGTTATATATATATATAAGCCATGGTCATTATATAGGGATTAACCGTTATATATATATATAGCCATGGATGATTATATATAGGGTTAACCGTTATATATATATATAAGCCATGGTCATTATATAGGGATTAACCGTTATATATATATATAGCCATGGATGATTATATATAGGGTTAACCGTTATATATATATATAAGCCATGGTCATTATATAGGGATTAACCGTTATATATATATATAGCCATGGATGATTATATATAGGGTTAACCGTTATATATATATATAAGCCATGGTCATTATATAGGGATTAACCGTTATATATATATATAGCCATGGATGATTATATATAGGGTTAACCGTTATATATATATATAAGCCATGGTCATTATATAGGGATTAACCGTTATATATATATATAGCCATGGATGATTATATATAGGGTTAACCGTTATATATATATATAAGCCATGGTCATTATA\n",
      "원본 문자열과 압축 해제한 문자열은 같ㅇ느가? True\n"
     ]
    }
   ],
   "source": [
    "class CompressedGene:\n",
    "    def __init__(self, gene: str) -> None:\n",
    "        self._compress(gene)\n",
    "\n",
    "    def _compress(self, gene: str) -> None:\n",
    "        self.bit_string: int = 1\n",
    "        for nucleotide in gene.upper():\n",
    "            self.bit_string <<= 2\n",
    "\n",
    "            if nucleotide == \"A\":\n",
    "                self.bit_string |= 0b00\n",
    "            elif nucleotide == \"C\":\n",
    "                self.bit_string |= 0b01\n",
    "            elif nucleotide == \"G\":\n",
    "                self.bit_string |= 0b10\n",
    "            elif nucleotide == \"T\":\n",
    "                self.bit_string |= 0b11\n",
    "            else:\n",
    "                raise ValueError(\"유효하지 않은 뉴클레오타이드입니다.{}\".format(nucleotide))\n",
    "\n",
    "    def decompress(self) -> str:\n",
    "        gene: str = \"\"\n",
    "        for i in range(0, self.bit_string.bit_length() - 1, 2):\n",
    "            bits: int = self.bit_string >> i & 0b11\n",
    "            if bits == 0b00:\n",
    "                gene += \"A\"\n",
    "            elif bits == 0b01:\n",
    "                gene += \"C\"\n",
    "            elif bits == 0b10:\n",
    "                gene += \"G\"\n",
    "            elif bits == 0b11:\n",
    "                gene += \"T\"\n",
    "            else:\n",
    "                raise ValueError(\"Invalid bits:{}\".format(bits))\n",
    "\n",
    "        return gene[::-1]\n",
    "\n",
    "    def __str__(self):\n",
    "        return self.decompress()\n",
    "\n",
    "\n",
    "from sys import getsizeof\n",
    "\n",
    "original: str = \"TAGGGATTAACCGTTATATATATATATAGCCATGGATGATTATATATAGGGTTAACCGTTATATATATATATAAGCCATGGTCATTATA\" * 100\n",
    "print(\"원본: {} byte\".format(getsizeof(original)))\n",
    "compressed: CompressedGene = CompressedGene(original)\n",
    "print(\"압축: {} byte\".format(getsizeof(compressed.bit_string)))\n",
    "print(compressed)\n",
    "print('원본 문자열과 압축 해제한 문자열은 같ㅇ느가? {}'.format(original == compressed.decompress()))\n"
   ],
   "metadata": {
    "collapsed": false,
    "pycharm": {
     "name": "#%%\n"
    }
   }
  },
  {
   "cell_type": "code",
   "execution_count": 4,
   "outputs": [
    {
     "name": "stdout",
     "output_type": "stream",
     "text": [
      "One Time Pad!\n"
     ]
    }
   ],
   "source": [
    "from secrets import token_bytes\n",
    "from typing import Tuple\n",
    "\n",
    "\n",
    "def random_key(length: int) -> int:\n",
    "    tb: bytes = token_bytes(length)\n",
    "    return int.from_bytes(tb, \"big\")\n",
    "\n",
    "\n",
    "def encrypt(original: str) -> Tuple[int, int]:\n",
    "    original_bytes: bytes = original.encode()\n",
    "    dummy: int = random_key(len(original_bytes))\n",
    "    original_key: int = int.from_bytes(original_bytes, \"big\")\n",
    "    encrypted: int = original_key ^ dummy\n",
    "    return dummy, encrypted\n",
    "\n",
    "\n",
    "def decrypt(key1: int, key2: int) -> str:\n",
    "    decrypted: int = key1 ^ key2\n",
    "    temp: bytes = decrypted.to_bytes((decrypted.bit_length() + 7) // 8, \"big\")\n",
    "    return temp.decode()\n",
    "\n",
    "\n",
    "key1, key2 = encrypt(\"One Time Pad!\")\n",
    "result: str = decrypt(key1, key2)\n",
    "print(result)"
   ],
   "metadata": {
    "collapsed": false,
    "pycharm": {
     "name": "#%%\n"
    }
   }
  },
  {
   "cell_type": "code",
   "execution_count": 5,
   "outputs": [
    {
     "name": "stdout",
     "output_type": "stream",
     "text": [
      "3.1415925535897915\n"
     ]
    }
   ],
   "source": [
    "def calculate_pi(n_terams: int) -> float:\n",
    "    numerator: float = 4.0\n",
    "    denominator: float = 1.0\n",
    "    operation: float = 1.0\n",
    "    pi: float = 0.0\n",
    "    for _ in range(n_terams):\n",
    "        pi += operation * (numerator / denominator)\n",
    "        denominator += 2.0\n",
    "        operation *= -1.0\n",
    "    return pi\n",
    "\n",
    "\n",
    "print(calculate_pi(10000000))"
   ],
   "metadata": {
    "collapsed": false,
    "pycharm": {
     "name": "#%%\n"
    }
   }
  },
  {
   "cell_type": "code",
   "execution_count": 10,
   "outputs": [
    {
     "name": "stdout",
     "output_type": "stream",
     "text": [
      "[]\n",
      "[1, 2, 3]\n",
      "[]\n"
     ]
    }
   ],
   "source": [
    "from typing import TypeVar, Generic, List\n",
    "\n",
    "T = TypeVar('T')\n",
    "\n",
    "\n",
    "class Stack(Generic[T]):\n",
    "\n",
    "    def __init__(self) -> None:\n",
    "        self._container: List[T] = []\n",
    "\n",
    "    def push(self, item: T) -> None:\n",
    "        self._container.append(item)\n",
    "\n",
    "    def pop(self) -> T:\n",
    "        return self._container.pop()\n",
    "\n",
    "    def __repr__(self) -> str:\n",
    "        return repr(self._container)\n",
    "\n",
    "\n",
    "num_discs: int = 3\n",
    "tower_a: Stack[int] = Stack()\n",
    "tower_b: Stack[int] = Stack()\n",
    "tower_c: Stack[int] = Stack()\n",
    "for i in range(1, num_discs + 1):\n",
    "    tower_a.push(i)\n",
    "\n",
    "\n",
    "def hanoi(begin: Stack[int], end: Stack[int], temp: Stack[int], n: int) -> None:\n",
    "    if n == 1:\n",
    "        end.push(begin.pop())\n",
    "    else:\n",
    "        hanoi(begin, temp, end, n - 1)\n",
    "        hanoi(begin, end, temp, 1)\n",
    "        hanoi(temp, end, begin, n - 1)\n",
    "\n",
    "\n",
    "hanoi(tower_a, tower_b, tower_c, num_discs)\n",
    "print(tower_a)\n",
    "print(tower_b)\n",
    "print(tower_c)"
   ],
   "metadata": {
    "collapsed": false,
    "pycharm": {
     "name": "#%%\n"
    }
   }
  },
  {
   "cell_type": "code",
   "execution_count": null,
   "outputs": [],
   "source": [],
   "metadata": {
    "collapsed": false,
    "pycharm": {
     "name": "#%%\n"
    }
   }
  }
 ],
 "metadata": {
  "kernelspec": {
   "display_name": "Python 3",
   "language": "python",
   "name": "python3"
  },
  "language_info": {
   "codemirror_mode": {
    "name": "ipython",
    "version": 2
   },
   "file_extension": ".py",
   "mimetype": "text/x-python",
   "name": "python",
   "nbconvert_exporter": "python",
   "pygments_lexer": "ipython2",
   "version": "2.7.6"
  }
 },
 "nbformat": 4,
 "nbformat_minor": 0
}